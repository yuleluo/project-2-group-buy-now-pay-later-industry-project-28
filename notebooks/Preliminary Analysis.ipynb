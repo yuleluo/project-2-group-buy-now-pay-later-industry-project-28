{
 "cells": [
  {
   "cell_type": "markdown",
   "metadata": {},
   "source": [
    "# Preliminary Analysis"
   ]
  },
  {
   "cell_type": "markdown",
   "metadata": {},
   "source": [
    "BNPL Data timeline: 2021-2-28 to 2022-10-26"
   ]
  },
  {
   "cell_type": "code",
   "execution_count": 64,
   "metadata": {},
   "outputs": [],
   "source": [
    "from pyspark.sql import SparkSession\n",
    "from pyspark.sql import functions as F\n",
    "from pyspark.sql.functions import* "
   ]
  },
  {
   "cell_type": "code",
   "execution_count": 65,
   "metadata": {},
   "outputs": [],
   "source": [
    "spark = (\n",
    "    SparkSession.builder.appName(\"Preliminary Analysis\")\n",
    "    .config(\"spark.sql.repl.eagerEval.enabled\", True) \n",
    "    .config(\"spark.driver.memory\",\"4G\")\n",
    "    .config(\"spark.executor.memory\",\"4G\")\n",
    "    .config(\"spark.sql.parquet.cacheMetadata\", \"true\")\n",
    "    .config(\"spark.sql.session.timeZone\", \"Etc/UTC\")\n",
    "    .getOrCreate()\n",
    ")"
   ]
  },
  {
   "cell_type": "markdown",
   "metadata": {},
   "source": [
    "# Load Dataset"
   ]
  },
  {
   "cell_type": "markdown",
   "metadata": {},
   "source": [
    "### Table 1"
   ]
  },
  {
   "cell_type": "code",
   "execution_count": 66,
   "metadata": {},
   "outputs": [],
   "source": [
    "consumer_fraud = spark.read.csv('../data/tables/tables 1/consumer_fraud_probability.csv', header=True, inferSchema=True)\n",
    "merchant_fraud = spark.read.csv('../data/tables/tables 1/merchant_fraud_probability.csv', header=True, inferSchema=True)\n",
    "consumer_user_details = spark.read.parquet('../data/tables/tables 1/consumer_user_details.parquet')\n",
    "tbl_consumer = spark.read.csv('../data/tables/tables 1/tbl_consumer.csv', header=True, inferSchema=True)\n",
    "tbl_merchants = spark.read.parquet('../data/tables/tables 1/tbl_merchants.parquet')"
   ]
  },
  {
   "cell_type": "code",
   "execution_count": 67,
   "metadata": {},
   "outputs": [
    {
     "name": "stdout",
     "output_type": "stream",
     "text": [
      "+----------------+--------------------+-----+--------+------+-----------+\n",
      "|            name|             address|state|postcode|gender|consumer_id|\n",
      "+----------------+--------------------+-----+--------+------+-----------+\n",
      "|Yolanda Williams|413 Haney Gardens...|   WA|    6935|Female|    1195503|\n",
      "|      Mary Smith|     3764 Amber Oval|  NSW|    2782|Female|     179208|\n",
      "|   Jill Jones MD|  40693 Henry Greens|   NT|     862|Female|    1194530|\n",
      "+----------------+--------------------+-----+--------+------+-----------+\n",
      "only showing top 3 rows\n",
      "\n"
     ]
    }
   ],
   "source": [
    "# split tbl_consumer table\n",
    "# single column into multiple columns\n",
    "split_col = split(tbl_consumer['name|address|state|postcode|gender|consumer_id'], r'\\|')\n",
    "\n",
    "# create separate columns for each part\n",
    "tbl_consumer = tbl_consumer.withColumn('name', split_col.getItem(0)) \\\n",
    "                           .withColumn('address', split_col.getItem(1)) \\\n",
    "                           .withColumn('state', split_col.getItem(2)) \\\n",
    "                           .withColumn('postcode', split_col.getItem(3)) \\\n",
    "                           .withColumn('gender', split_col.getItem(4)) \\\n",
    "                           .withColumn('consumer_id', split_col.getItem(5))\n",
    "\n",
    "tbl_consumer = tbl_consumer.drop('name|address|state|postcode|gender|consumer_id')\n",
    "\n",
    "tbl_consumer.show(3)"
   ]
  },
  {
   "cell_type": "markdown",
   "metadata": {},
   "source": [
    "# Join all comsumer, merchant table"
   ]
  },
  {
   "cell_type": "code",
   "execution_count": 68,
   "metadata": {},
   "outputs": [
    {
     "name": "stdout",
     "output_type": "stream",
     "text": [
      "+-----------+-------+--------------+------------------+-----------------+--------------------+-----+--------+-----------+\n",
      "|consumer_id|user_id|order_datetime| fraud_probability|             name|             address|state|postcode|     gender|\n",
      "+-----------+-------+--------------+------------------+-----------------+--------------------+-----+--------+-----------+\n",
      "|    1174371|     95|    2021-09-22|10.950213110987248|      Linda Burns|76786 Stephanie I...|  NSW|    2352|     Female|\n",
      "|    1174371|     95|    2021-11-03| 9.077685805360991|      Linda Burns|76786 Stephanie I...|  NSW|    2352|     Female|\n",
      "|     921339|    152|    2021-12-17|14.821132072309535|       Tina Clark|     637 Daniel View|  NSW|    2161|     Female|\n",
      "|     612215|    275|    2021-06-04| 12.90435899477071|Dr. Nicholas Hill|36154 Rivera Neck...|  VIC|    3147|Undisclosed|\n",
      "|    1493354|    378|    2021-10-24|15.080740281581361| William Sullivan|716 Samuel Rapids...|  VIC|    3533|       Male|\n",
      "|    1493354|    378|    2021-10-12| 9.075543396104425| William Sullivan|716 Samuel Rapids...|  VIC|    3533|       Male|\n",
      "|    1493354|    378|    2021-11-21| 8.385219010957915| William Sullivan|716 Samuel Rapids...|  VIC|    3533|       Male|\n",
      "|     742966|    652|    2022-01-12|14.546282928384265|    Douglas Davis|  80455 Andrew Brook|  QLD|    4741|       Male|\n",
      "|     567201|    846|    2021-10-02|19.789915258960185|   Joseph Rosario|307 Chavez Curve ...|  NSW|    2763|       Male|\n",
      "|     567201|    846|    2021-11-27| 11.59318771997229|   Joseph Rosario|307 Chavez Curve ...|  NSW|    2763|       Male|\n",
      "+-----------+-------+--------------+------------------+-----------------+--------------------+-----+--------+-----------+\n",
      "only showing top 10 rows\n",
      "\n"
     ]
    }
   ],
   "source": [
    "consumer_table = consumer_fraud.join(consumer_user_details, on=\"user_id\", how=\"inner\")\n",
    "consumer_table = consumer_table.join(tbl_consumer, on=\"consumer_id\", how=\"inner\")\n",
    "consumer_table.show(10)"
   ]
  },
  {
   "cell_type": "code",
   "execution_count": 69,
   "metadata": {},
   "outputs": [
    {
     "name": "stdout",
     "output_type": "stream",
     "text": [
      "+------------+--------------+------------------+--------------------+--------------------+\n",
      "|merchant_abn|order_datetime| fraud_probability|                name|                tags|\n",
      "+------------+--------------+------------------+--------------------+--------------------+\n",
      "| 11149063370|    2022-02-25| 51.01538421455241|     Et Arcu Limited|([art dealers and...|\n",
      "| 11149063370|    2021-11-14|52.407803322764764|     Et Arcu Limited|([art dealers and...|\n",
      "| 11149063370|    2021-08-28| 56.43761254995139|     Et Arcu Limited|([art dealers and...|\n",
      "| 11470993597|    2021-09-28| 63.37734364737917|      Sed Associates|((watch, clock, a...|\n",
      "| 11590404675|    2021-12-21|29.607818240092094|         Arcu Sed PC|((antique shops -...|\n",
      "| 14530561097|    2021-09-15| 80.80054474543395|        Duis At Inc.|[[jewelry, watch,...|\n",
      "| 15043504837|    2021-10-08|25.054391991473924|   Odio Incorporated|([jewelry, watch,...|\n",
      "| 15043504837|    2021-12-14| 26.12523097610844|   Odio Incorporated|([jewelry, watch,...|\n",
      "| 15043504837|    2021-08-29| 59.77648897297805|   Odio Incorporated|([jewelry, watch,...|\n",
      "| 15157368385|    2021-12-13|  64.2774131928303|Tempus Non Lacini...|[(artist supply a...|\n",
      "+------------+--------------+------------------+--------------------+--------------------+\n",
      "only showing top 10 rows\n",
      "\n"
     ]
    }
   ],
   "source": [
    "merchant_table = merchant_fraud.join(tbl_merchants, on=\"merchant_abn\", how=\"inner\")\n",
    "merchant_table.show(10)"
   ]
  },
  {
   "cell_type": "code",
   "execution_count": 70,
   "metadata": {},
   "outputs": [],
   "source": [
    "# convert string to lowercase\n",
    "merchant_table = merchant_table.withColumn(\"name\", lower(col(\"name\"))) \\\n",
    "                               .withColumn(\"tags\", lower(col(\"tags\")))\n",
    "\n"
   ]
  },
  {
   "cell_type": "code",
   "execution_count": 71,
   "metadata": {},
   "outputs": [
    {
     "name": "stdout",
     "output_type": "stream",
     "text": [
      "+------------+--------------+------------------+--------------------+--------------------+\n",
      "|merchant_abn|order_datetime| fraud_probability|                name|                tags|\n",
      "+------------+--------------+------------------+--------------------+--------------------+\n",
      "| 11149063370|    2022-02-25| 51.01538421455241|     et arcu limited|([art dealers and...|\n",
      "| 11149063370|    2021-11-14|52.407803322764764|     et arcu limited|([art dealers and...|\n",
      "| 11149063370|    2021-08-28| 56.43761254995139|     et arcu limited|([art dealers and...|\n",
      "| 11470993597|    2021-09-28| 63.37734364737917|      sed associates|((watch, clock, a...|\n",
      "| 11590404675|    2021-12-21|29.607818240092094|         arcu sed pc|((antique shops -...|\n",
      "| 14530561097|    2021-09-15| 80.80054474543395|        duis at inc.|[[jewelry, watch,...|\n",
      "| 15043504837|    2021-10-08|25.054391991473924|   odio incorporated|([jewelry, watch,...|\n",
      "| 15043504837|    2021-12-14| 26.12523097610844|   odio incorporated|([jewelry, watch,...|\n",
      "| 15043504837|    2021-08-29| 59.77648897297805|   odio incorporated|([jewelry, watch,...|\n",
      "| 15157368385|    2021-12-13|  64.2774131928303|tempus non lacini...|[(artist supply a...|\n",
      "| 18158387243|    2021-11-29|28.956947892226466|      nec tellus ltd|[[health and beau...|\n",
      "| 18158387243|    2021-11-26|29.102418916409913|      nec tellus ltd|[[health and beau...|\n",
      "| 18737319630|    2021-09-25| 72.73069736562613|       ut industries|((computers, comp...|\n",
      "| 19492220327|    2021-11-03|24.872618445353506|commodo ipsum ind...|([jewelry, watch,...|\n",
      "| 19492220327|    2022-01-29|25.071151926838045|commodo ipsum ind...|([jewelry, watch,...|\n",
      "| 19492220327|    2021-10-08| 25.50276371658429|commodo ipsum ind...|([jewelry, watch,...|\n",
      "| 19492220327|    2021-10-18|30.935658544112286|commodo ipsum ind...|([jewelry, watch,...|\n",
      "| 19492220327|    2021-11-18|32.193139919494016|commodo ipsum ind...|([jewelry, watch,...|\n",
      "| 19492220327|    2021-12-18|33.819672154331755|commodo ipsum ind...|([jewelry, watch,...|\n",
      "| 19492220327|    2021-12-22|38.867790051131095|commodo ipsum ind...|([jewelry, watch,...|\n",
      "| 19492220327|    2021-11-28|44.403658647495355|commodo ipsum ind...|([jewelry, watch,...|\n",
      "| 21439773999|    2021-11-26|28.504479048104585|mauris non institute|([cable, satellit...|\n",
      "| 22606727520|    2021-11-27|62.992786990153064|laoreet ipsum ind...|[(books, periodic...|\n",
      "| 23709946765|    2022-02-02| 44.01272537833859|  faucibus leo corp.|((jewelry, watch,...|\n",
      "| 27093785141|    2021-11-26| 27.58235777292768|placerat orci ins...|[[stationery, off...|\n",
      "| 27093785141|    2021-11-29|29.520113582407653|placerat orci ins...|[[stationery, off...|\n",
      "| 27093785141|    2021-11-27|29.539473036230746|placerat orci ins...|[[stationery, off...|\n",
      "| 30275989942|    2022-01-28|63.108592876362856|arcu vivamus sit ...|([shoe shops], [a...|\n",
      "| 31334588839|    2021-12-10|26.940495859428125|lacus aliquam cor...|[(antique shops -...|\n",
      "| 31334588839|    2021-12-12|27.514968025268885|lacus aliquam cor...|[(antique shops -...|\n",
      "+------------+--------------+------------------+--------------------+--------------------+\n",
      "only showing top 30 rows\n",
      "\n"
     ]
    }
   ],
   "source": [
    "merchant_table.show(30)"
   ]
  },
  {
   "cell_type": "code",
   "execution_count": 72,
   "metadata": {},
   "outputs": [
    {
     "name": "stdout",
     "output_type": "stream",
     "text": [
      "+------------+--------------+------------------+------------------------+------------------------------------------------------------------------------------+------------------------------------------------------------------------------------+\n",
      "|merchant_abn|order_datetime|fraud_probability |name                    |tags                                                                                |tags_converted                                                                      |\n",
      "+------------+--------------+------------------+------------------------+------------------------------------------------------------------------------------+------------------------------------------------------------------------------------+\n",
      "|11149063370 |2022-02-25    |51.01538421455241 |et arcu limited         |([art dealers and galleries], [b], [take rate: 4.84])                               |[[art dealers and galleries], [b], [take rate: 4.84]]                               |\n",
      "|11149063370 |2021-11-14    |52.407803322764764|et arcu limited         |([art dealers and galleries], [b], [take rate: 4.84])                               |[[art dealers and galleries], [b], [take rate: 4.84]]                               |\n",
      "|11149063370 |2021-08-28    |56.43761254995139 |et arcu limited         |([art dealers and galleries], [b], [take rate: 4.84])                               |[[art dealers and galleries], [b], [take rate: 4.84]]                               |\n",
      "|11470993597 |2021-09-28    |63.37734364737917 |sed associates          |((watch, clock, and jewelry repair shops), (d), (take rate: 1.35))                  |[[watch, clock, and jewelry repair shops], [d], [take rate: 1.35]]                  |\n",
      "|11590404675 |2021-12-21    |29.607818240092094|arcu sed pc             |((antique shops - sales, repairs, and restoration services), (b), (take rate: 4.19))|[[antique shops - sales, repairs, and restoration services], [b], [take rate: 4.19]]|\n",
      "|14530561097 |2021-09-15    |80.80054474543395 |duis at inc.            |[[jewelry, watch, clock, and silverware shops], [c], [take rate: 1.69]]             |[[jewelry, watch, clock, and silverware shops], [c], [take rate: 1.69]]             |\n",
      "|15043504837 |2021-10-08    |25.054391991473924|odio incorporated       |([jewelry, watch, clock, and silverware shops], [b], [take rate: 4.62])             |[[jewelry, watch, clock, and silverware shops], [b], [take rate: 4.62]]             |\n",
      "|15043504837 |2021-12-14    |26.12523097610844 |odio incorporated       |([jewelry, watch, clock, and silverware shops], [b], [take rate: 4.62])             |[[jewelry, watch, clock, and silverware shops], [b], [take rate: 4.62]]             |\n",
      "|15043504837 |2021-08-29    |59.77648897297805 |odio incorporated       |([jewelry, watch, clock, and silverware shops], [b], [take rate: 4.62])             |[[jewelry, watch, clock, and silverware shops], [b], [take rate: 4.62]]             |\n",
      "|15157368385 |2021-12-13    |64.2774131928303  |tempus non lacinia inc. |[(artist supply and craft shops), (b), (take rate: 3.98)]                           |[[artist supply and craft shops], [b], [take rate: 3.98]]                           |\n",
      "|18158387243 |2021-11-29    |28.956947892226466|nec tellus ltd          |[[health and beauty spas], [c], [take rate: 2.03]]                                  |[[health and beauty spas], [c], [take rate: 2.03]]                                  |\n",
      "|18158387243 |2021-11-26    |29.102418916409913|nec tellus ltd          |[[health and beauty spas], [c], [take rate: 2.03]]                                  |[[health and beauty spas], [c], [take rate: 2.03]]                                  |\n",
      "|18737319630 |2021-09-25    |72.73069736562613 |ut industries           |((computers, computer peripheral equipment, and software), (a), (take rate: 5.70))  |[[computers, computer peripheral equipment, and software], [a], [take rate: 5.70]]  |\n",
      "|19492220327 |2021-11-03    |24.872618445353506|commodo ipsum industries|([jewelry, watch, clock, and silverware shops], [b], [take rate: 4.93])             |[[jewelry, watch, clock, and silverware shops], [b], [take rate: 4.93]]             |\n",
      "|19492220327 |2022-01-29    |25.071151926838045|commodo ipsum industries|([jewelry, watch, clock, and silverware shops], [b], [take rate: 4.93])             |[[jewelry, watch, clock, and silverware shops], [b], [take rate: 4.93]]             |\n",
      "|19492220327 |2021-10-08    |25.50276371658429 |commodo ipsum industries|([jewelry, watch, clock, and silverware shops], [b], [take rate: 4.93])             |[[jewelry, watch, clock, and silverware shops], [b], [take rate: 4.93]]             |\n",
      "|19492220327 |2021-10-18    |30.935658544112286|commodo ipsum industries|([jewelry, watch, clock, and silverware shops], [b], [take rate: 4.93])             |[[jewelry, watch, clock, and silverware shops], [b], [take rate: 4.93]]             |\n",
      "|19492220327 |2021-11-18    |32.193139919494016|commodo ipsum industries|([jewelry, watch, clock, and silverware shops], [b], [take rate: 4.93])             |[[jewelry, watch, clock, and silverware shops], [b], [take rate: 4.93]]             |\n",
      "|19492220327 |2021-12-18    |33.819672154331755|commodo ipsum industries|([jewelry, watch, clock, and silverware shops], [b], [take rate: 4.93])             |[[jewelry, watch, clock, and silverware shops], [b], [take rate: 4.93]]             |\n",
      "|19492220327 |2021-12-22    |38.867790051131095|commodo ipsum industries|([jewelry, watch, clock, and silverware shops], [b], [take rate: 4.93])             |[[jewelry, watch, clock, and silverware shops], [b], [take rate: 4.93]]             |\n",
      "+------------+--------------+------------------+------------------------+------------------------------------------------------------------------------------+------------------------------------------------------------------------------------+\n",
      "only showing top 20 rows\n",
      "\n"
     ]
    }
   ],
   "source": [
    "from pyspark.sql.functions import regexp_replace, col\n",
    "\n",
    "# Step 1: Replace '(' with '['\n",
    "merchant_table = merchant_table.withColumn(\"tags_converted\", regexp_replace(col(\"tags\"), r'\\(', '['))\n",
    "\n",
    "# Step 2: Replace ')' with ']'\n",
    "merchant_table = merchant_table.withColumn(\"tags_converted\", regexp_replace(col(\"tags_converted\"), r'\\)', ']'))\n",
    "\n",
    "# Step 3: Show the result\n",
    "merchant_table.show(truncate=False)\n"
   ]
  },
  {
   "cell_type": "code",
   "execution_count": 73,
   "metadata": {},
   "outputs": [
    {
     "name": "stdout",
     "output_type": "stream",
     "text": [
      "+------------+--------------+------------------+------------------------+------------------------------------------------------------------------------------+------------------------------------------------------------------------------------+-------------------------------+-----------------------------+-------------------------+\n",
      "|merchant_abn|order_datetime|fraud_probability |name                    |tags                                                                                |tags_converted                                                                      |category                       |subcategory                  |take_rate                |\n",
      "+------------+--------------+------------------+------------------------+------------------------------------------------------------------------------------+------------------------------------------------------------------------------------+-------------------------------+-----------------------------+-------------------------+\n",
      "|11149063370 |2022-02-25    |51.01538421455241 |et arcu limited         |([art dealers and galleries], [b], [take rate: 4.84])                               |[[art dealers and galleries], [b], [take rate: 4.84]]                               |[art dealers and galleries]    |[b]                          |[take rate: 4.84][       |\n",
      "|11149063370 |2021-11-14    |52.407803322764764|et arcu limited         |([art dealers and galleries], [b], [take rate: 4.84])                               |[[art dealers and galleries], [b], [take rate: 4.84]]                               |[art dealers and galleries]    |[b]                          |[take rate: 4.84][       |\n",
      "|11149063370 |2021-08-28    |56.43761254995139 |et arcu limited         |([art dealers and galleries], [b], [take rate: 4.84])                               |[[art dealers and galleries], [b], [take rate: 4.84]]                               |[art dealers and galleries]    |[b]                          |[take rate: 4.84][       |\n",
      "|11470993597 |2021-09-28    |63.37734364737917 |sed associates          |((watch, clock, and jewelry repair shops), (d), (take rate: 1.35))                  |[[watch, clock, and jewelry repair shops], [d], [take rate: 1.35]]                  |[watch                         |clock                        |and jewelry repair shops[|\n",
      "|11590404675 |2021-12-21    |29.607818240092094|arcu sed pc             |((antique shops - sales, repairs, and restoration services), (b), (take rate: 4.19))|[[antique shops - sales, repairs, and restoration services], [b], [take rate: 4.19]]|[antique shops - sales         |repairs                      |and restoration services[|\n",
      "|14530561097 |2021-09-15    |80.80054474543395 |duis at inc.            |[[jewelry, watch, clock, and silverware shops], [c], [take rate: 1.69]]             |[[jewelry, watch, clock, and silverware shops], [c], [take rate: 1.69]]             |[jewelry                       |watch                        |clock                    |\n",
      "|15043504837 |2021-10-08    |25.054391991473924|odio incorporated       |([jewelry, watch, clock, and silverware shops], [b], [take rate: 4.62])             |[[jewelry, watch, clock, and silverware shops], [b], [take rate: 4.62]]             |[jewelry                       |watch                        |clock                    |\n",
      "|15043504837 |2021-12-14    |26.12523097610844 |odio incorporated       |([jewelry, watch, clock, and silverware shops], [b], [take rate: 4.62])             |[[jewelry, watch, clock, and silverware shops], [b], [take rate: 4.62]]             |[jewelry                       |watch                        |clock                    |\n",
      "|15043504837 |2021-08-29    |59.77648897297805 |odio incorporated       |([jewelry, watch, clock, and silverware shops], [b], [take rate: 4.62])             |[[jewelry, watch, clock, and silverware shops], [b], [take rate: 4.62]]             |[jewelry                       |watch                        |clock                    |\n",
      "|15157368385 |2021-12-13    |64.2774131928303  |tempus non lacinia inc. |[(artist supply and craft shops), (b), (take rate: 3.98)]                           |[[artist supply and craft shops], [b], [take rate: 3.98]]                           |[artist supply and craft shops[|[b[                          |[take rate: 3.98[        |\n",
      "|18158387243 |2021-11-29    |28.956947892226466|nec tellus ltd          |[[health and beauty spas], [c], [take rate: 2.03]]                                  |[[health and beauty spas], [c], [take rate: 2.03]]                                  |[health and beauty spas]       |[c]                          |[take rate: 2.03]        |\n",
      "|18158387243 |2021-11-26    |29.102418916409913|nec tellus ltd          |[[health and beauty spas], [c], [take rate: 2.03]]                                  |[[health and beauty spas], [c], [take rate: 2.03]]                                  |[health and beauty spas]       |[c]                          |[take rate: 2.03]        |\n",
      "|18737319630 |2021-09-25    |72.73069736562613 |ut industries           |((computers, computer peripheral equipment, and software), (a), (take rate: 5.70))  |[[computers, computer peripheral equipment, and software], [a], [take rate: 5.70]]  |[computers                     |computer peripheral equipment|and software[            |\n",
      "|19492220327 |2021-11-03    |24.872618445353506|commodo ipsum industries|([jewelry, watch, clock, and silverware shops], [b], [take rate: 4.93])             |[[jewelry, watch, clock, and silverware shops], [b], [take rate: 4.93]]             |[jewelry                       |watch                        |clock                    |\n",
      "|19492220327 |2022-01-29    |25.071151926838045|commodo ipsum industries|([jewelry, watch, clock, and silverware shops], [b], [take rate: 4.93])             |[[jewelry, watch, clock, and silverware shops], [b], [take rate: 4.93]]             |[jewelry                       |watch                        |clock                    |\n",
      "|19492220327 |2021-10-08    |25.50276371658429 |commodo ipsum industries|([jewelry, watch, clock, and silverware shops], [b], [take rate: 4.93])             |[[jewelry, watch, clock, and silverware shops], [b], [take rate: 4.93]]             |[jewelry                       |watch                        |clock                    |\n",
      "|19492220327 |2021-10-18    |30.935658544112286|commodo ipsum industries|([jewelry, watch, clock, and silverware shops], [b], [take rate: 4.93])             |[[jewelry, watch, clock, and silverware shops], [b], [take rate: 4.93]]             |[jewelry                       |watch                        |clock                    |\n",
      "|19492220327 |2021-11-18    |32.193139919494016|commodo ipsum industries|([jewelry, watch, clock, and silverware shops], [b], [take rate: 4.93])             |[[jewelry, watch, clock, and silverware shops], [b], [take rate: 4.93]]             |[jewelry                       |watch                        |clock                    |\n",
      "|19492220327 |2021-12-18    |33.819672154331755|commodo ipsum industries|([jewelry, watch, clock, and silverware shops], [b], [take rate: 4.93])             |[[jewelry, watch, clock, and silverware shops], [b], [take rate: 4.93]]             |[jewelry                       |watch                        |clock                    |\n",
      "|19492220327 |2021-12-22    |38.867790051131095|commodo ipsum industries|([jewelry, watch, clock, and silverware shops], [b], [take rate: 4.93])             |[[jewelry, watch, clock, and silverware shops], [b], [take rate: 4.93]]             |[jewelry                       |watch                        |clock                    |\n",
      "+------------+--------------+------------------+------------------------+------------------------------------------------------------------------------------+------------------------------------------------------------------------------------+-------------------------------+-----------------------------+-------------------------+\n",
      "only showing top 20 rows\n",
      "\n"
     ]
    }
   ],
   "source": [
    "from pyspark.sql.functions import regexp_replace, split, col\n",
    "\n",
    "# Step 1: Standardize the brackets\n",
    "# Replace '(' and ')' with '[' and ']', respectively\n",
    "merchant_table = merchant_table.withColumn(\"tags_cleaned\", regexp_replace(col(\"tags\"), r'\\(|\\)', '['))\n",
    "merchant_table = merchant_table.withColumn(\"tags_cleaned\", regexp_replace(col(\"tags_cleaned\"), r'\\)', ']'))\n",
    "\n",
    "# Step 2: Remove any outer brackets if present\n",
    "merchant_table = merchant_table.withColumn(\"tags_cleaned\", regexp_replace(col(\"tags_cleaned\"), r'^\\[|\\]$', ''))\n",
    "\n",
    "# Step 3: Split the elements by ', '\n",
    "split_col = split(col(\"tags_cleaned\"), ', ')\n",
    "\n",
    "# Step 4: Create separate columns for each element\n",
    "merchant_table = merchant_table.withColumn(\"category\", split_col.getItem(0)) \\\n",
    "                               .withColumn(\"subcategory\", split_col.getItem(1)) \\\n",
    "                               .withColumn(\"take_rate\", split_col.getItem(2))\n",
    "\n",
    "# Step 5: Drop the intermediate cleaned column\n",
    "merchant_table = merchant_table.drop(\"tags_cleaned\")\n",
    "\n",
    "# Step 6: Show the result\n",
    "merchant_table.show(truncate=False)\n"
   ]
  },
  {
   "cell_type": "markdown",
   "metadata": {},
   "source": [
    "### Table 2 3 4 - transactions"
   ]
  },
  {
   "cell_type": "code",
   "execution_count": 74,
   "metadata": {},
   "outputs": [],
   "source": [
    "# 3 transactions tables\n",
    "tables_2 = spark.read.parquet('../data/tables/tables 2')\n",
    "tables_3 = spark.read.parquet('../data/tables/tables 3')\n",
    "tables_4 = spark.read.parquet('../data/tables/tables 4')"
   ]
  },
  {
   "cell_type": "code",
   "execution_count": 75,
   "metadata": {},
   "outputs": [
    {
     "name": "stdout",
     "output_type": "stream",
     "text": [
      "number of transactions in table 2 3 4:  3643266 4508106 6044133\n"
     ]
    }
   ],
   "source": [
    "print('number of transactions in table 2 3 4: ', tables_2.count(), tables_3.count(), tables_4.count())\n"
   ]
  },
  {
   "cell_type": "code",
   "execution_count": 76,
   "metadata": {},
   "outputs": [],
   "source": [
    "# combine all transactions - 14195505 transactions with no duplicate record\n",
    "transaction_table = tables_2.union(tables_3).union(tables_4)"
   ]
  },
  {
   "cell_type": "code",
   "execution_count": 77,
   "metadata": {},
   "outputs": [
    {
     "name": "stderr",
     "output_type": "stream",
     "text": [
      "                                                                                \r"
     ]
    },
    {
     "name": "stdout",
     "output_type": "stream",
     "text": [
      "+-------+------------+------------+--------+--------------+-----+\n",
      "|user_id|merchant_abn|dollar_value|order_id|order_datetime|count|\n",
      "+-------+------------+------------+--------+--------------+-----+\n",
      "+-------+------------+------------+--------+--------------+-----+\n",
      "\n"
     ]
    },
    {
     "name": "stderr",
     "output_type": "stream",
     "text": [
      "                                                                                \r"
     ]
    }
   ],
   "source": [
    "# Check duplicate transaction records\n",
    "\n",
    "# group by all columns and count occurrences\n",
    "duplicates = transaction_table.groupBy(transaction_table.columns).count()\n",
    "\n",
    "# keep only duplicate records\n",
    "duplicates = duplicates.filter(col(\"count\") > 1)\n",
    "\n",
    "# duplicate row\n",
    "duplicates.show()"
   ]
  }
 ],
 "metadata": {
  "kernelspec": {
   "display_name": "base",
   "language": "python",
   "name": "python3"
  },
  "language_info": {
   "codemirror_mode": {
    "name": "ipython",
    "version": 3
   },
   "file_extension": ".py",
   "mimetype": "text/x-python",
   "name": "python",
   "nbconvert_exporter": "python",
   "pygments_lexer": "ipython3",
   "version": "3.9.13"
  }
 },
 "nbformat": 4,
 "nbformat_minor": 2
}
